{
 "cells": [
  {
   "cell_type": "markdown",
   "metadata": {
    "id": "1zs_7kSEY36H"
   },
   "source": [
    "# Инициализация."
   ]
  },
  {
   "cell_type": "code",
   "execution_count": 1,
   "metadata": {
    "id": "HKERc9ZKY7mr"
   },
   "outputs": [],
   "source": [
    "import scipy\n",
    "import numpy as np\n",
    "import pandas as pd\n",
    "import seaborn as sns\n",
    "import matplotlib.pyplot as plt\n",
    "\n",
    "from IPython.display import display, Latex\n",
    "from numba import njit, jit, prange\n",
    "from itertools import product\n",
    "from scipy import integrate\n",
    "from scipy import special\n",
    "from tqdm import tqdm\n",
    "\n",
    "sns.set_style(\"whitegrid\")"
   ]
  },
  {
   "cell_type": "markdown",
   "metadata": {
    "id": "XlQSaUI7pvC8"
   },
   "source": [
    "# Загрузка и предпросмотр."
   ]
  },
  {
   "cell_type": "code",
   "execution_count": 10,
   "metadata": {
    "id": "ZQqPeXVuIT2V"
   },
   "outputs": [],
   "source": [
    "x = pd.read_csv('flares.csv').iloc[:, 0].values\n",
    "x = x.astype(np.float64)\n",
    "\n",
    "# Закон Парето или другие данные.\n",
    "# x = scipy.stats.pareto.rvs(2.5, size=200)\n",
    "\n",
    "# Синтетические нормально распределённые (тест).\n",
    "# x = np.random.randn((200))\n",
    "\n",
    "# Синтетические равномерно распределённые (тест).\n",
    "# x = np.random.uniform(1, 10, size=200)\n",
    "\n",
    "# Синтетические экспоненциально распределённые (тест).\n",
    "# x = scipy.stats.expon.rvs(size=200)\n",
    "\n",
    "x = x[x > 0]"
   ]
  },
  {
   "cell_type": "markdown",
   "metadata": {
    "id": "TnZKZjasMBpz"
   },
   "source": [
    "## Метод Хилла"
   ]
  },
  {
   "cell_type": "code",
   "execution_count": 11,
   "metadata": {},
   "outputs": [],
   "source": [
    "@njit(parallel=True)\n",
    "def compute_hill_values(x):\n",
    "    sorted_x = np.sort(x)[::-1]\n",
    "    hill_values = np.zeros(sorted_x.size - 1)\n",
    "    for k in prange(1, sorted_x.size):\n",
    "        hill_values[k - 1] = np.sum(np.log(sorted_x[:k] / sorted_x[k])) / k\n",
    "    return sorted_x, hill_values"
   ]
  },
  {
   "cell_type": "code",
   "execution_count": 12,
   "metadata": {
    "id": "OidyA1QXI3mO"
   },
   "outputs": [
    {
     "data": {
      "text/latex": [
       "$\\alpha=1.9508376569467205$"
      ],
      "text/plain": [
       "<IPython.core.display.Latex object>"
      ]
     },
     "metadata": {},
     "output_type": "display_data"
    }
   ],
   "source": [
    "sorted_x, hill_values = compute_hill_values(x)\n",
    "ks = np.arange(1, sorted_x.size)\n",
    "beta = np.median(hill_values) ** -1\n",
    "alpha = beta + 1\n",
    "display(Latex(f'$\\\\alpha={alpha}$'))"
   ]
  },
  {
   "cell_type": "code",
   "execution_count": 13,
   "metadata": {
    "colab": {
     "base_uri": "https://localhost:8080/",
     "height": 38
    },
    "executionInfo": {
     "elapsed": 5,
     "status": "ok",
     "timestamp": 1669895592639,
     "user": {
      "displayName": "Никита Бородин",
      "userId": "14960528348348599606"
     },
     "user_tz": -180
    },
    "id": "3UMTURS9Kito",
    "outputId": "54389899-e49f-44ad-d8ac-6f5a39ef2cb4"
   },
   "outputs": [
    {
     "data": {
      "text/latex": [
       "$\\alpha=1.9508376569467205$"
      ],
      "text/plain": [
       "<IPython.core.display.Latex object>"
      ]
     },
     "metadata": {},
     "output_type": "display_data"
    }
   ],
   "source": [
    "beta = np.median(hill_values) ** -1\n",
    "alpha = beta + 1\n",
    "display(Latex(f'$\\\\alpha={alpha}$'))"
   ]
  },
  {
   "cell_type": "code",
   "execution_count": 14,
   "metadata": {
    "colab": {
     "base_uri": "https://localhost:8080/",
     "height": 483
    },
    "executionInfo": {
     "elapsed": 577,
     "status": "ok",
     "timestamp": 1669895593212,
     "user": {
      "displayName": "Никита Бородин",
      "userId": "14960528348348599606"
     },
     "user_tz": -180
    },
    "id": "vCr9EXYfJ0yv",
    "outputId": "dddea0de-7be6-4963-bda0-9fe2717c29f6",
    "scrolled": false
   },
   "outputs": [
    {
     "data": {
      "image/png": "[encoded data removed]",
      "text/plain": [
       "<Figure size 864x576 with 1 Axes>"
      ]
     },
     "metadata": {},
     "output_type": "display_data"
    }
   ],
   "source": [
    "plt.figure(figsize=(12, 8))\n",
    "plt.plot(ks, hill_values ** -1)\n",
    "plt.show()"
   ]
  },
  {
   "cell_type": "markdown",
   "metadata": {},
   "source": [
    "## Линейный биннинг"
   ]
  },
  {
   "cell_type": "code",
   "execution_count": 15,
   "metadata": {
    "colab": {
     "base_uri": "https://localhost:8080/",
     "height": 523
    },
    "executionInfo": {
     "elapsed": 5534,
     "status": "ok",
     "timestamp": 1669895598739,
     "user": {
      "displayName": "Никита Бородин",
      "userId": "14960528348348599606"
     },
     "user_tz": -180
    },
    "id": "2SLY19mKYTum",
    "outputId": "4a6127e9-b6ea-4c2e-e7d5-b94c56e20c94"
   },
   "outputs": [
    {
     "data": {
      "image/png": "[encoded data removed]",
      "text/plain": [
       "<Figure size 864x576 with 1 Axes>"
      ]
     },
     "metadata": {},
     "output_type": "display_data"
    }
   ],
   "source": [
    "lin_bins_count = 100\n",
    "x_bins = np.linspace(x.min(), x.max(), num=lin_bins_count + 1)\n",
    "\n",
    "cdf = np.array([sum(x < bin) for bin in x_bins]) / x.shape[0]\n",
    "bins_frequences = cdf[1:] - cdf[:-1]\n",
    "\n",
    "plt.figure(figsize=(12, 8))\n",
    "plt.hist(x_bins[:-1], x_bins[1:], weights=bins_frequences)\n",
    "\n",
    "plt.yscale('log')\n",
    "plt.xscale('log')\n",
    "\n",
    "plt.xlabel('X bins', fontsize=14)\n",
    "plt.ylabel('Frequency P(X)', fontsize=14)\n",
    "plt.title(\"Double log-scale hist\", fontsize=16)\n",
    "\n",
    "plt.show()"
   ]
  },
  {
   "cell_type": "markdown",
   "metadata": {
    "id": "W25NI48BMhvF"
   },
   "source": [
    "# Тест Pruessner"
   ]
  },
  {
   "cell_type": "markdown",
   "metadata": {
    "id": "bQWgGj2xMrJV"
   },
   "source": [
    "## Биннинг"
   ]
  },
  {
   "cell_type": "code",
   "execution_count": 16,
   "metadata": {},
   "outputs": [],
   "source": [
    "@njit\n",
    "def get_exp_bins(selection, bins_count):\n",
    "    R = (selection.max() / selection.min()) ** (1 / bins_count)\n",
    "    c = selection.min() / R\n",
    "    linspace = np.arange(bins_count) * ((bins_count) / (bins_count - 1)) + 1\n",
    "    bins = c * R ** linspace\n",
    "    return bins"
   ]
  },
  {
   "cell_type": "code",
   "execution_count": 20,
   "metadata": {
    "colab": {
     "base_uri": "https://localhost:8080/",
     "height": 523
    },
    "executionInfo": {
     "elapsed": 1590,
     "status": "ok",
     "timestamp": 1669895600325,
     "user": {
      "displayName": "Никита Бородин",
      "userId": "14960528348348599606"
     },
     "user_tz": -180
    },
    "id": "YNo0Pg1HMkRT",
    "outputId": "8fc119d5-ce5f-4303-f019-32da9052de8d"
   },
   "outputs": [
    {
     "data": {
      "image/png": "[encoded data removed]",
      "text/plain": [
       "<Figure size 864x576 with 1 Axes>"
      ]
     },
     "metadata": {},
     "output_type": "display_data"
    }
   ],
   "source": [
    "exp_bins_count = 40\n",
    "x_exp_bins = get_exp_bins(x, exp_bins_count)\n",
    "\n",
    "pdf = np.array([np.sum([(x >= bin_start) & (x < bin_end)]) for bin_start, bin_end in zip(x_exp_bins[:-1], x_exp_bins[1:])]) / x.shape[0]\n",
    "pdf_exp = pdf / (x_exp_bins[1:] - x_exp_bins[:-1])\n",
    "\n",
    "plt.figure(figsize=(12, 8))\n",
    "plt.hist(x_exp_bins[:-1], x_exp_bins[1:], weights=pdf_exp)\n",
    "\n",
    "plt.yscale('log')\n",
    "plt.xscale('log')\n",
    "\n",
    "plt.xlabel('X bins', fontsize=14)\n",
    "plt.ylabel('Frequency P(X)', fontsize=14)\n",
    "plt.title(\"Double log-scale hist\", fontsize=16)\n",
    "\n",
    "plt.show()"
   ]
  },
  {
   "cell_type": "code",
   "execution_count": 21,
   "metadata": {
    "colab": {
     "base_uri": "https://localhost:8080/",
     "height": 523
    },
    "executionInfo": {
     "elapsed": 1104,
     "status": "ok",
     "timestamp": 1669895601425,
     "user": {
      "displayName": "Никита Бородин",
      "userId": "14960528348348599606"
     },
     "user_tz": -180
    },
    "id": "NwOGBAdBcaO0",
    "outputId": "f95b4096-8787-446e-b1c0-e5d83eb7ecce"
   },
   "outputs": [
    {
     "data": {
      "image/png": "[encoded data removed]",
      "text/plain": [
       "<Figure size 864x576 with 1 Axes>"
      ]
     },
     "metadata": {},
     "output_type": "display_data"
    }
   ],
   "source": [
    "figure = plt.gcf()\n",
    "\n",
    "n, bins, _ = plt.hist(x_exp_bins[:-1], x_exp_bins[1:], weights=pdf_exp, alpha=0.0)\n",
    "plt.plot(bins[:-1] + 0.5 * (bins[1:] - bins[:-1]), n, 'b-', marker=\"o\", markersize=15, markerfacecolor=\"None\")\n",
    "\n",
    "plt.yscale('log')\n",
    "plt.xscale('log')\n",
    "\n",
    "plt.xlabel('X bins', fontsize=14)\n",
    "plt.ylabel('Frequency P(X)', fontsize=14)\n",
    "plt.title(\"Double log-scale hist\", fontsize=16)\n",
    "\n",
    "size = figure.get_size_inches()\n",
    "figure.set_size_inches(size * (12.0 / size[0]))\n",
    "\n",
    "plt.show()"
   ]
  },
  {
   "cell_type": "markdown",
   "metadata": {
    "id": "XqHyPDTJM2j0"
   },
   "source": [
    "## Нелинейное преобразование координат."
   ]
  },
  {
   "cell_type": "code",
   "execution_count": 22,
   "metadata": {
    "colab": {
     "base_uri": "https://localhost:8080/",
     "height": 487
    },
    "executionInfo": {
     "elapsed": 826,
     "status": "ok",
     "timestamp": 1669895602248,
     "user": {
      "displayName": "Никита Бородин",
      "userId": "14960528348348599606"
     },
     "user_tz": -180
    },
    "id": "iXQ8ZHEwMv7M",
    "outputId": "e3bfcb29-b1de-483a-81b9-dfd09b177cea"
   },
   "outputs": [
    {
     "data": {
      "image/png": "[encoded data removed]",
      "text/plain": [
       "<Figure size 864x576 with 1 Axes>"
      ]
     },
     "metadata": {},
     "output_type": "display_data"
    }
   ],
   "source": [
    "new_pdf = x.copy()\n",
    "for index, (bin_start, bin_end) in enumerate(zip(x_exp_bins[:-1], x_exp_bins[1:])):\n",
    "    new_pdf[(x >= bin_start) & (x < bin_end)] **= alpha\n",
    "    new_pdf[(x >= bin_start) & (x < bin_end)] *= pdf_exp[index]\n",
    "\n",
    "plt.figure(figsize=(12, 8))\n",
    "\n",
    "sorted_idxs = np.argsort(x)\n",
    "plt.plot(x[sorted_idxs], new_pdf[sorted_idxs])\n",
    "\n",
    "plt.yscale('log')\n",
    "plt.xscale('log')\n",
    "\n",
    "plt.show()"
   ]
  },
  {
   "cell_type": "markdown",
   "metadata": {
    "id": "BvER0MfVMSvU"
   },
   "source": [
    "# Тест Clauset"
   ]
  },
  {
   "cell_type": "markdown",
   "metadata": {
    "id": "wh9QHPNxzuH9"
   },
   "source": [
    "## Оценка параметра $x_{min}$."
   ]
  },
  {
   "cell_type": "markdown",
   "metadata": {
    "id": "BTrESSQ00XFu"
   },
   "source": [
    "Предполагаем, что данные распределены непрерывно по степенному закону:\n",
    "\n",
    "> $p(x)dx = Pr(x \\leq X \\leq x + dx) =  \\frac{\\alpha-1}{x_{min}}\\cdot\\left(\\frac{x}{x_{min}}\\right)^{-\\alpha}dx$\n",
    "\n",
    "Для того, чтобы оценить $x_{min}$ воспользуемся следующим критерием: подберём такую степенную модель $M(\\hat{\\alpha}, \\hat{x}_{min})$, для которой $D_{KS}=\\underset{x\\geq \\hat{x}_{min}}{max}\\left|\\overline{CDF}(x)-CDF_{M}(x)\\right|$ минимально. Тогда $\\hat{x}_{min}$ и будет нашим оценочным значением."
   ]
  },
  {
   "cell_type": "code",
   "execution_count": 23,
   "metadata": {
    "id": "vjGJSNogJiLJ"
   },
   "outputs": [],
   "source": [
    "@njit\n",
    "def m_density_func(x, alpha, x_min):\n",
    "    return ((alpha - 1) / x_min) * (x / x_min) ** (-alpha)\n",
    "\n",
    "@njit\n",
    "def m_cdf(x, alpha, x_min):\n",
    "    return (x / x_min) ** (1 - alpha)"
   ]
  },
  {
   "cell_type": "code",
   "execution_count": 24,
   "metadata": {
    "id": "04k6YgYkmLzs"
   },
   "outputs": [],
   "source": [
    "@njit\n",
    "def fast_ks_test(x, exp_bins_count, alpha, x_min):\n",
    "    x_filtered = x[x >= x_min]\n",
    "    \n",
    "    if x_filtered.shape[0] < exp_bins_count:\n",
    "        exp_bins_count = x_filtered.shape[0]\n",
    "    if exp_bins_count < 2:\n",
    "        return np.inf, np.empty(1), np.empty(1)\n",
    "        \n",
    "    exp_bins = get_exp_bins(x_filtered, exp_bins_count)\n",
    "    exp_bins_counts = np.zeros(exp_bins.shape[0] - 1)\n",
    "    for index, exp_bin in enumerate(exp_bins[:-1]):\n",
    "        exp_bins_counts[index] = np.sum(x_filtered >= exp_bin)\n",
    "    bins_cdf = exp_bins_counts / x_filtered.shape[0]\n",
    "\n",
    "    # Так как в данном случае CDF монотонно убывает (CDF(x) = P(X >= x)).\n",
    "    m_bins_cdf = m_cdf(exp_bins[:-1], alpha, x_min)\n",
    "\n",
    "    ks_distance = np.max(np.abs(bins_cdf - m_bins_cdf))\n",
    "\n",
    "    return ks_distance, bins_cdf, m_bins_cdf"
   ]
  },
  {
   "cell_type": "markdown",
   "metadata": {
    "id": "R6xb1AJjLQC0"
   },
   "source": [
    "Подберём оптимальное значение по сетке. Среди одних и тех же значений x_min выбираем минимальное расстояние Колмогорова-Смирнова, получаем соответствие между каждым уникальным x_min и его расстоянием. Находим самый левый локальный минимум с глубиной, большей или равной заданной."
   ]
  },
  {
   "cell_type": "code",
   "execution_count": 25,
   "metadata": {
    "id": "fSAIv3zP4Yqp"
   },
   "outputs": [],
   "source": [
    "@njit\n",
    "def find_left_min(values, min_depth): \n",
    "    left_ptr = 0\n",
    "    right_ptr = 0\n",
    "\n",
    "    if values.size == 1:\n",
    "        return 0\n",
    "\n",
    "    while right_ptr != (values.size - 1) and values[right_ptr] < values[right_ptr + 1]:\n",
    "        right_ptr += 1\n",
    "    if right_ptr == (values.size - 1):\n",
    "        return 0\n",
    "\n",
    "    left_ptr = right_ptr\n",
    "\n",
    "    while right_ptr < (values.size - 1):\n",
    "        if values[right_ptr] >= values[right_ptr + 1]:\n",
    "            right_ptr += 1\n",
    "\n",
    "        else:\n",
    "            left_depth = values[left_ptr] - values[right_ptr]\n",
    "            if left_depth < min_depth:\n",
    "                right_ptr += 1\n",
    "                continue\n",
    "            left_ptr = right_ptr\n",
    "            while right_ptr < (values.size - 1):\n",
    "                if values[right_ptr] < values[left_ptr]:\n",
    "                    left_ptr = right_ptr\n",
    "                if values[right_ptr] < values[right_ptr + 1]:\n",
    "                    right_ptr += 1\n",
    "                else:\n",
    "                    right_depth = values[right_ptr] - values[left_ptr]\n",
    "                    if right_depth < min_depth:\n",
    "                        right_ptr += 1\n",
    "                        continue\n",
    "                    else:\n",
    "                        break\n",
    "\n",
    "            if right_ptr == (values.size - 1):\n",
    "                right_depth = values[right_ptr] - values[left_ptr]\n",
    "            if min(left_depth, right_depth) >= min_depth:\n",
    "                return left_ptr\n",
    "            else:\n",
    "                left_ptr = right_ptr\n",
    "    \n",
    "    return -1"
   ]
  },
  {
   "cell_type": "code",
   "execution_count": 26,
   "metadata": {
    "colab": {
     "base_uri": "https://localhost:8080/"
    },
    "executionInfo": {
     "elapsed": 3609,
     "status": "ok",
     "timestamp": 1669895606310,
     "user": {
      "displayName": "Никита Бородин",
      "userId": "14960528348348599606"
     },
     "user_tz": -180
    },
    "id": "ApugJSjNLi3O",
    "outputId": "3d54cdba-4e8b-4cfd-a025-d3b169166a1e",
    "scrolled": true
   },
   "outputs": [
    {
     "name": "stderr",
     "output_type": "stream",
     "text": [
      "Searching x_min: 100%|███████████████████████████████| 1800/1800 [00:03<00:00, 570.11it/s]\n"
     ]
    }
   ],
   "source": [
    "from collections import defaultdict\n",
    "\n",
    "MIN_ALPHA = 1 + 1e-8\n",
    "MIN_X_MIN = 0 + 1e-8\n",
    "\n",
    "alphas_counts = 90\n",
    "xs_min_counts = 20\n",
    "total = alphas_counts * xs_min_counts\n",
    "\n",
    "alphas = np.linspace(MIN_ALPHA, 10, alphas_counts)\n",
    "xs_min = np.linspace(MIN_X_MIN, x.max(), xs_min_counts)\n",
    "\n",
    "best_x_min = None\n",
    "best_bins_cdfs = None\n",
    "\n",
    "ks_history = defaultdict(lambda: np.inf)\n",
    "bins_cdfs_history = dict()\n",
    "\n",
    "min_ks_distance = np.inf \n",
    "for (alpha, x_min) in tqdm(product(alphas, xs_min), \"Searching x_min\", total):\n",
    "    ks_distance, *bins_cdfs = fast_ks_test(x, exp_bins_count, alpha, x_min)\n",
    "    \n",
    "    if ks_distance < ks_history[x_min]:\n",
    "        ks_history[x_min] = ks_distance\n",
    "        bins_cdfs_history[x_min] = bins_cdfs"
   ]
  },
  {
   "cell_type": "code",
   "execution_count": 27,
   "metadata": {
    "id": "DS2JgKELTl9N"
   },
   "outputs": [],
   "source": [
    "min_depth = 0.5\n",
    "history_values = np.array(list(ks_history.values()))\n",
    "\n",
    "min_ptr = find_left_min(history_values, min_depth)\n",
    "while min_ptr == -1 or np.abs(history_values[min_ptr]) < 1e-8:\n",
    "    min_depth -= 1e-2\n",
    "    if min_depth <= 0:\n",
    "        break\n",
    "    min_ptr = find_left_min(history_values, min_depth)"
   ]
  },
  {
   "cell_type": "code",
   "execution_count": 28,
   "metadata": {},
   "outputs": [],
   "source": [
    "min_ks_distance = history_values[min_ptr]"
   ]
  },
  {
   "cell_type": "code",
   "execution_count": 29,
   "metadata": {
    "colab": {
     "base_uri": "https://localhost:8080/",
     "height": 501
    },
    "executionInfo": {
     "elapsed": 810,
     "status": "ok",
     "timestamp": 1669895607606,
     "user": {
      "displayName": "Никита Бородин",
      "userId": "14960528348348599606"
     },
     "user_tz": -180
    },
    "id": "KLpFx5FD0sbN",
    "outputId": "ab34f0ca-3cc8-4764-a6a6-e611546cf933",
    "scrolled": false
   },
   "outputs": [
    {
     "data": {
      "image/png": "[encoded data removed]",
      "text/plain": [
       "<Figure size 864x576 with 1 Axes>"
      ]
     },
     "metadata": {},
     "output_type": "display_data"
    }
   ],
   "source": [
    "plt.figure(figsize=(12, 8))\n",
    "\n",
    "plt.plot(list(ks_history.keys()), list(ks_history.values()), label=\"Fitting history\")\n",
    "plt.xlabel('x_min', fontsize=14)\n",
    "plt.ylabel('KS distance', fontsize=14)\n",
    "\n",
    "plt.axhspan(min_ks_distance, min_ks_distance + 1e-4, color='red', label=\"Best KS distance\")\n",
    "\n",
    "plt.legend(fontsize=14)\n",
    "plt.show()"
   ]
  },
  {
   "cell_type": "code",
   "execution_count": 30,
   "metadata": {
    "id": "O1PxrVBfF4zL"
   },
   "outputs": [],
   "source": [
    "best_x_min = list(ks_history.keys())[min_ptr]\n",
    "best_bins_cdfs = bins_cdfs_history[best_x_min]"
   ]
  },
  {
   "cell_type": "code",
   "execution_count": 31,
   "metadata": {
    "colab": {
     "base_uri": "https://localhost:8080/",
     "height": 59
    },
    "executionInfo": {
     "elapsed": 15,
     "status": "ok",
     "timestamp": 1669895607608,
     "user": {
      "displayName": "Никита Бородин",
      "userId": "14960528348348599606"
     },
     "user_tz": -180
    },
    "id": "0r6tWdGpBiBt",
    "outputId": "53e8ec5d-2781-4dcc-8de5-808aa1d75747",
    "scrolled": false
   },
   "outputs": [
    {
     "data": {
      "text/latex": [
       "$x_{min}=\\hat{x}_{min}=12173.68421053579$"
      ],
      "text/plain": [
       "<IPython.core.display.Latex object>"
      ]
     },
     "metadata": {},
     "output_type": "display_data"
    },
    {
     "data": {
      "text/latex": [
       "$min(D_{KS})=0.08882017110022578$"
      ],
      "text/plain": [
       "<IPython.core.display.Latex object>"
      ]
     },
     "metadata": {},
     "output_type": "display_data"
    }
   ],
   "source": [
    "display(Latex(f'$x_{\"{min}\"}=\\hat{\"{x}\"}_{\"{min}\"}={best_x_min}$'))\n",
    "display(Latex(f'$min(D_{\"{KS}\"})={min_ks_distance}$'))"
   ]
  },
  {
   "cell_type": "code",
   "execution_count": 32,
   "metadata": {
    "colab": {
     "base_uri": "https://localhost:8080/",
     "height": 519
    },
    "executionInfo": {
     "elapsed": 792,
     "status": "ok",
     "timestamp": 1669895608388,
     "user": {
      "displayName": "Никита Бородин",
      "userId": "14960528348348599606"
     },
     "user_tz": -180
    },
    "id": "8yoec8JVYRaL",
    "outputId": "5f8dddb3-652f-4e6d-a5de-c399b24a3071"
   },
   "outputs": [
    {
     "data": {
      "image/png": "[encoded data removed]",
      "text/plain": [
       "<Figure size 864x576 with 1 Axes>"
      ]
     },
     "metadata": {},
     "output_type": "display_data"
    }
   ],
   "source": [
    "plt.figure(figsize=(12, 8))\n",
    "\n",
    "bins_cdf = best_bins_cdfs[0]\n",
    "m_bins_cdf = best_bins_cdfs[1]\n",
    "\n",
    "x_filtered = x[x >= best_x_min]\n",
    "if x_filtered.shape[0] < exp_bins_count:\n",
    "        exp_bins_count = x_filtered.shape[0]\n",
    "exp_bins = get_exp_bins(x_filtered, exp_bins_count)\n",
    "\n",
    "bins_starts = exp_bins[:-1]\n",
    "bins_ends = exp_bins[1:]\n",
    "\n",
    "plt.hist(bins_starts, bins_ends, weights=bins_cdf, color='blue', \n",
    "         histtype = 'step', label='Empirical data CDF')\n",
    "plt.hist(bins_starts, bins_ends, weights=m_bins_cdf, color='red', \n",
    "         histtype = 'step', label='Best model CDF')\n",
    "\n",
    "plt.xlabel('X bins', fontsize=14)\n",
    "plt.ylabel('F(X)', fontsize=14)\n",
    "plt.title(\"Best fitted power law model and an empirical selection\", fontsize=16)\n",
    "\n",
    "plt.axvspan(x.min(), best_x_min, 0, 1, alpha=0.5, color='black', label='Cut off area')\n",
    "plt.axvspan(best_x_min, best_x_min + 1e-2, 0, 1, color='black', label='x_min')\n",
    "\n",
    "plt.xlim(x.min(), x.max())\n",
    "\n",
    "plt.yscale('log')\n",
    "plt.legend(fontsize=14)\n",
    "plt.show()"
   ]
  },
  {
   "cell_type": "markdown",
   "metadata": {
    "id": "lDT-5hifV75E"
   },
   "source": [
    "## Оценка параметра $\\alpha$."
   ]
  },
  {
   "cell_type": "markdown",
   "metadata": {
    "id": "q6MEewHKXBWF"
   },
   "source": [
    "На данном этапе считаем, что $x_{min}$ нам известен. "
   ]
  },
  {
   "cell_type": "code",
   "execution_count": 33,
   "metadata": {
    "id": "jmKkrVc4WDie"
   },
   "outputs": [],
   "source": [
    "x_min = best_x_min"
   ]
  },
  {
   "cell_type": "markdown",
   "metadata": {
    "id": "AnqcAlqiBsrn"
   },
   "source": [
    "Оценка параметра $\\alpha$ производится с помощью метода максимального правдоподобия. В данном случае MLE модель может быть записана в виде:\n",
    "\n",
    "> $\\hat{\\alpha}=1 + n\\left[\\underset{i=1}{\\overset{n}{\\sum}}ln\\frac{x_i}{x_{min}}\\right]^{-1}$,\n",
    "\n",
    "где $x_i, i=1,\\cdots, n$ - наблюдаемые значения переменной x такие, что $x_i \\geq x_{min}$; $\\hat{\\alpha}$ - спрогнозированное значение $\\alpha$."
   ]
  },
  {
   "cell_type": "code",
   "execution_count": 34,
   "metadata": {
    "id": "qySB1z_CDBGe"
   },
   "outputs": [],
   "source": [
    "filtered_x = x[x >= x_min]\n",
    "n = filtered_x.shape[0]\n",
    "\n",
    "alpha = np.round(1 + n * (np.sum(np.log(filtered_x / x_min)) ** (-1)), 3)"
   ]
  },
  {
   "cell_type": "code",
   "execution_count": 35,
   "metadata": {
    "colab": {
     "base_uri": "https://localhost:8080/",
     "height": 38
    },
    "executionInfo": {
     "elapsed": 9,
     "status": "ok",
     "timestamp": 1669895608389,
     "user": {
      "displayName": "Никита Бородин",
      "userId": "14960528348348599606"
     },
     "user_tz": -180
    },
    "id": "UFFAr6dmDjMZ",
    "outputId": "9e52273d-98dd-4f5b-96ea-d4d38e2a2768"
   },
   "outputs": [
    {
     "data": {
      "text/latex": [
       "$\\alpha=1.967$"
      ],
      "text/plain": [
       "<IPython.core.display.Latex object>"
      ]
     },
     "metadata": {},
     "output_type": "display_data"
    }
   ],
   "source": [
    "display(Latex(f'$\\\\alpha={alpha}$'))"
   ]
  },
  {
   "cell_type": "markdown",
   "metadata": {
    "id": "e6HhkmUP6Deo"
   },
   "source": [
    "## Тестирование на принадлежность выборки к степенному распределению."
   ]
  },
  {
   "cell_type": "markdown",
   "metadata": {
    "id": "LHwvHkJ96r8b"
   },
   "source": [
    "Для вычисления $p$-статистики нам понадобится сгенерировать некоторое количество новых выборок данных из степенного распределения с параметрами ($\\hat{\\alpha}$, $\\hat{x}_{min}$). Количество новых синтетических датасетов зависит от точности $ϵ$: если мы хотим, чтобы наша $p$-статистика имела ошибку не более $ϵ$, то необходимо сгенерировать $N \\geq \\frac{1}{4}ϵ^{-2}$ наборов данных."
   ]
  },
  {
   "cell_type": "code",
   "execution_count": 36,
   "metadata": {
    "colab": {
     "base_uri": "https://localhost:8080/",
     "height": 38
    },
    "executionInfo": {
     "elapsed": 8,
     "status": "ok",
     "timestamp": 1669895608389,
     "user": {
      "displayName": "Никита Бородин",
      "userId": "14960528348348599606"
     },
     "user_tz": -180
    },
    "id": "M7WqQQA9-zdx",
    "outputId": "31556648-e412-4e4e-a28f-35888e71c84a"
   },
   "outputs": [
    {
     "data": {
      "text/latex": [
       "$\\epsilon=0.01\\Rightarrow N=2500$"
      ],
      "text/plain": [
       "<IPython.core.display.Latex object>"
      ]
     },
     "metadata": {},
     "output_type": "display_data"
    }
   ],
   "source": [
    "eps = 1e-2 # Выбор параметра epsilon.\n",
    "\n",
    "synth_n = round(0.25 * (eps ** (-2)))\n",
    "display(Latex(f'$\\\\epsilon={eps}\\Rightarrow N={synth_n}$'))"
   ]
  },
  {
   "cell_type": "markdown",
   "metadata": {
    "id": "PsGspD9XXUFD"
   },
   "source": [
    "Генерируем датасеты так, чтобы та же часть набора данных, что и в эмпирической выборке $x\\geq \\hat{x}_{min}$, была распределена по степенному закону ($\\hat{\\alpha}$, $\\hat{x}_{min}$), а остальная часть $x<\\hat{x}_{min}$ была представлена выбранными равномерно случайными данными из соответствующей части базовой выборки. "
   ]
  },
  {
   "cell_type": "code",
   "execution_count": 37,
   "metadata": {
    "id": "QQTUZPl4CMG9"
   },
   "outputs": [],
   "source": [
    "@njit\n",
    "def power_law_generate(alpha, x_min, probability):\n",
    "    # Так как x_min > 0, функция плотности ax^b монотонна => можно построить \n",
    "    # биективное отображение из значений F(x) в x.\n",
    "    return (x_min ** (1 - alpha) * probability) ** (1 / (1 - alpha))\n",
    "\n",
    "@njit\n",
    "def generate_dataset(alpha, x_min, x, number_of_samples):\n",
    "    n_tail = np.sum(x >= x_min)\n",
    "    n_empirical = number_of_samples - n_tail\n",
    "\n",
    "    power_law_probs = np.random.uniform(0, 1, number_of_samples)\n",
    "    power_law_generated = power_law_generate(alpha, x_min, power_law_probs)\n",
    "\n",
    "    if n_empirical != 0:\n",
    "        random_values = np.random.uniform(0, 1, number_of_samples)\n",
    "        random_samples = np.random.choice(x[x < x_min], number_of_samples)\n",
    "        return np.where(random_values >= n_empirical / number_of_samples, \n",
    "                        power_law_generated, random_samples)\n",
    "    else:\n",
    "        return power_law_generated"
   ]
  },
  {
   "cell_type": "markdown",
   "metadata": {
    "id": "Fb_vc3GgZH1t"
   },
   "source": [
    "Вычислим $p$-статистику: (крайне времязатратный шаг)"
   ]
  },
  {
   "cell_type": "code",
   "execution_count": 38,
   "metadata": {
    "id": "isaAx11bZSn-"
   },
   "outputs": [],
   "source": [
    "@njit(parallel=True)\n",
    "def compute_p_value(alpha, x_min, x, synth_n, empirical_ks, alphas, xs_min):\n",
    "    ks_statistics = np.zeros(synth_n)\n",
    "    for index in prange(synth_n):\n",
    "        ks_synth_history = np.ones(xs_min_counts) * np.inf\n",
    "        for alpha_index in np.arange(alphas.size):\n",
    "            for x_min_index in np.arange(xs_min.size):\n",
    "                alpha_ = alphas[alpha_index]\n",
    "                x_min_ = xs_min[x_min_index]\n",
    "\n",
    "                dataset = generate_dataset(alpha, x_min, x, x.shape[0])\n",
    "                ks_distance, _, _ = fast_ks_test(dataset, exp_bins_count, alpha_, x_min_)\n",
    "                if ks_distance < ks_synth_history[x_min_index]:\n",
    "                    ks_synth_history[x_min_index] = ks_distance\n",
    "\n",
    "            min_synth_ptr = find_left_min(ks_synth_history, min_depth)\n",
    "            ks_statistics[index] = ks_synth_history[min_synth_ptr]\n",
    "\n",
    "    p_value = np.sum(ks_statistics > empirical_ks) / synth_n\n",
    "\n",
    "    return p_value, ks_statistics"
   ]
  },
  {
   "cell_type": "code",
   "execution_count": 39,
   "metadata": {
    "id": "9R9qGZvxbgtZ"
   },
   "outputs": [
    {
     "data": {
      "text/latex": [
       "$p=0.486$"
      ],
      "text/plain": [
       "<IPython.core.display.Latex object>"
      ]
     },
     "metadata": {},
     "output_type": "display_data"
    }
   ],
   "source": [
    "p_value, ks_statistics = compute_p_value(alpha, x_min, x, synth_n, min_ks_distance, alphas, xs_min)\n",
    "display(Latex(f'$p={p_value}$'))"
   ]
  },
  {
   "cell_type": "code",
   "execution_count": 40,
   "metadata": {
    "id": "osTj6an1ViHz"
   },
   "outputs": [
    {
     "data": {
      "text/latex": [
       "$p\\geq 0.1\\Rightarrow гипотеза\\; на\\; соответствие\\;      распределения\\; выборки\\; степенному\\; закону\\; принимается.$"
      ],
      "text/plain": [
       "<IPython.core.display.Latex object>"
      ]
     },
     "metadata": {},
     "output_type": "display_data"
    }
   ],
   "source": [
    "if p_value >= 0.1 + eps:\n",
    "    display(Latex('$p\\geq 0.1\\Rightarrow гипотеза\\; на\\; соответствие\\; \\\n",
    "     распределения\\; выборки\\; степенному\\; закону\\; принимается.$'))\n",
    "else:\n",
    "    display(Latex('$p< 0.1\\Rightarrow гипотеза\\; на\\; соответствие\\; \\\n",
    "     распределения\\; выборки\\; степенному\\; закону\\; отвергается.$'))"
   ]
  }
 ],
 "metadata": {
  "colab": {
   "authorship_tag": "ABX9TyODcHJhFdwja59SJB9b7W//",
   "provenance": []
  },
  "kernelspec": {
   "display_name": "Python 3 (ipykernel)",
   "language": "python",
   "name": "python3"
  },
  "language_info": {
   "codemirror_mode": {
    "name": "ipython",
    "version": 3
   },
   "file_extension": ".py",
   "mimetype": "text/x-python",
   "name": "python",
   "nbconvert_exporter": "python",
   "pygments_lexer": "ipython3",
   "version": "3.10.6"
  }
 },
 "nbformat": 4,
 "nbformat_minor": 1
}
